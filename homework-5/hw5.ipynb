{
 "cells": [
  {
   "cell_type": "code",
   "execution_count": 3,
   "id": "d6018589",
   "metadata": {},
   "outputs": [],
   "source": [
    "# conda install openjdk\n",
    "# conda install pyspark\n",
    "# conda install -c conda-forge findspark"
   ]
  },
  {
   "cell_type": "code",
   "execution_count": 1,
   "id": "912ef371",
   "metadata": {},
   "outputs": [
    {
     "name": "stdout",
     "output_type": "stream",
     "text": [
      "root\n",
      " |-- id: string (nullable = true)\n",
      " |-- comment_text: string (nullable = true)\n",
      " |-- toxic: string (nullable = true)\n",
      " |-- severe_toxic: string (nullable = true)\n",
      " |-- obscene: string (nullable = true)\n",
      " |-- threat: string (nullable = true)\n",
      " |-- insult: string (nullable = true)\n",
      " |-- identity_hate: string (nullable = true)\n",
      "\n"
     ]
    }
   ],
   "source": [
    "import pandas as pd\n",
    "from pyspark.sql import SparkSession\n",
    "from pyspark.ml import Pipeline\n",
    "from pyspark.ml.classification import LogisticRegression\n",
    "from pyspark.ml.feature import StandardScaler, Word2Vec, StopWordsRemover, VectorAssembler, StringIndexer, HashingTF, IDF, Tokenizer\n",
    "import pyspark.sql.functions as f\n",
    "from pyspark.ml.evaluation import BinaryClassificationEvaluator\n",
    "from pyspark.ml.tuning import CrossValidator, ParamGridBuilder\n",
    "\n",
    "\n",
    "\n",
    "spark = SparkSession \\\n",
    "    .builder \\\n",
    "    .appName(\"HTFIDF\") \\\n",
    "    .master(\"local[*]\") \\\n",
    "    .config(\"spark.executor.memory\", \"70g\") \\\n",
    "    .config(\"spark.driver.memory\", \"50g\") \\\n",
    "    .config(\"spark.memory.offHeap.enabled\",True) \\\n",
    "    .config(\"spark.memory.offHeap.size\",\"16g\") \\\n",
    "    .getOrCreate()\n",
    "\n",
    "sc = spark.sparkContext\n",
    "\n",
    "df = spark.read.option(\"header\",True).option(\"quote\", \"\\\"\").option(\"escape\", \"\\\"\").option(\"multiline\", True).csv(\"data/train.csv\")\n",
    "\n",
    "df.printSchema()\n",
    "\n"
   ]
  },
  {
   "cell_type": "code",
   "execution_count": null,
   "id": "d349c875",
   "metadata": {},
   "outputs": [],
   "source": [
    "#Приведем к нижнему регистру, а затем токенизуем и удалим стоп слова\n",
    "\n",
    "new_df = df.withColumn('comment_text', f.lower(f.col('comment_text')))\n",
    "\n",
    "tokenizer = Tokenizer(inputCol='comment_text', outputCol='words')\n",
    "new_df = tokenizer.transform(new_df)\n",
    "remover = StopWordsRemover(inputCol='words', outputCol='filtered')\n",
    "new_df = remover.transform(new_df)\n",
    "\n",
    "\n",
    "#пайплайн\n",
    "NUM_FEATURES = 10\n",
    "\n",
    "hashing = HashingTF(inputCol='filtered', outputCol='raw_features', numFeatures=NUM_FEATURES)\n",
    "idf = IDF(inputCol='raw_features', outputCol='features')\n",
    "label_stringIdx = StringIndexer(inputCol = \"toxic\", outputCol = \"label\")\n",
    "lr = LogisticRegression(maxIter=10)\n",
    "\n",
    "pipeline = Pipeline(stages= [hashing, idf, label_stringIdx, lr])\n",
    "model = pipeline.fit(new_df)\n",
    "\n",
    "rescale_df = model.transform(new_df)\n",
    "rescale_df.select('label', 'prediction').show(truncate=False)"
   ]
  },
  {
   "cell_type": "code",
   "execution_count": null,
   "id": "26ea7aca",
   "metadata": {},
   "outputs": [],
   "source": [
    "param_grid = ParamGridBuilder().addGrid(hashing.numFeatures, \n",
    "                                        [10, 20, 50, 100, 200, 500, 1000]).build()\n",
    "\n",
    "cv = CrossValidator(estimator=pipeline, estimatorParamMaps=param_grid, \n",
    "                    evaluator=BinaryClassificationEvaluator(), seed=42)\n",
    "\n",
    "model = cv.fit(new_df)\n",
    "\n",
    "params = [{p.name: v for p, v in m.items()} for m in model.getEstimatorParamMaps()]\n",
    "\n",
    "pd.DataFrame.from_dict([\n",
    "    {model.getEvaluator().getMetricName(): metric, **ps} \n",
    "    for ps, metric in zip(params, model.avgMetrics)])"
   ]
  },
  {
   "cell_type": "markdown",
   "id": "07891cae",
   "metadata": {},
   "source": [
    "## TF_IDF"
   ]
  },
  {
   "cell_type": "code",
   "execution_count": null,
   "id": "9424f31c",
   "metadata": {},
   "outputs": [],
   "source": [
    "def tf_idf_cv(target_name, df = df, num_feature_list = [10, 20, 50, 100, 200, 500, 1000]):\n",
    "    \n",
    "    new_df = df.withColumn('comment_text', f.lower(f.col('comment_text')))\n",
    "    tokenizer = Tokenizer(inputCol='comment_text', outputCol='words')\n",
    "    new_df = tokenizer.transform(new_df)\n",
    "    remover = StopWordsRemover(inputCol='words', outputCol='filtered')\n",
    "    new_df = remover.transform(new_df)\n",
    "    \n",
    "    hashing = HashingTF(inputCol='filtered', outputCol='raw_features', numFeatures=10)\n",
    "    idf = IDF(inputCol='raw_features', outputCol='features')\n",
    "    label_stringIdx = StringIndexer(inputCol = target_name, outputCol = \"label\")\n",
    "    lr = LogisticRegression(maxIter=10)\n",
    "\n",
    "    pipeline = Pipeline(stages= [hashing, idf, label_stringIdx, lr])\n",
    "    param_grid = ParamGridBuilder().addGrid(hashing.numFeatures, \n",
    "                                            num_feature_list).build()\n",
    "    \n",
    "    cv = CrossValidator(estimator=pipeline, estimatorParamMaps=param_grid, \n",
    "                        evaluator=BinaryClassificationEvaluator(), seed=42)\n",
    "    model = cv.fit(new_df)\n",
    "    params = [{p.name: v for p, v in m.items()} for m in model.getEstimatorParamMaps()]\n",
    "    \n",
    "    output = pd.DataFrame.from_dict([{model.getEvaluator().getMetricName(): metric, **ps} \n",
    "        for ps, metric in zip(params, model.avgMetrics)])\n",
    "    \n",
    "    return output\n"
   ]
  },
  {
   "cell_type": "code",
   "execution_count": null,
   "id": "c23ab030",
   "metadata": {},
   "outputs": [],
   "source": [
    "toxic = tf_idf_cv('toxic')\n",
    "print('toxic done')\n",
    "\n",
    "obscene = tf_idf_cv('obscene')\n",
    "print('obscene done')\n",
    "\n",
    "threat = tf_idf_cv('threat')\n",
    "print('threat done')\n",
    "\n",
    "insult = tf_idf_cv('insult')\n",
    "print('insult done')\n",
    "\n",
    "identity = tf_idf_cv('identity_hate')\n",
    "print('identity_hate done')\n"
   ]
  },
  {
   "cell_type": "code",
   "execution_count": null,
   "id": "a5127522",
   "metadata": {},
   "outputs": [],
   "source": [
    "toxic['target'] = \"toxic\"\n",
    "obscene['target'] = \"obscene\"\n",
    "threat['target'] = \"threat\"\n",
    "insult['target'] = \"insult\"\n",
    "identity['target'] = \"identity_hate\"\n",
    "\n",
    "\n",
    "pd.pivot_table(pd.concat([toxic, obscene, threat, insult, identity]),\n",
    "               values='areaUnderROC', index='numFeatures',columns=['target']).reset_index()"
   ]
  },
  {
   "cell_type": "markdown",
   "id": "165a7d93",
   "metadata": {},
   "source": [
    "## Word2Vec\n"
   ]
  },
  {
   "cell_type": "code",
   "execution_count": null,
   "id": "f9ad243c",
   "metadata": {},
   "outputs": [],
   "source": [
    "def w2v_cv(target_name, df = df, VECTORSIZE = 3):\n",
    "    \n",
    "    new_df = df.withColumn('comment_text', f.lower(f.col('comment_text')))\n",
    "    tokenizer = Tokenizer(inputCol='comment_text', outputCol='words')\n",
    "    new_df = tokenizer.transform(new_df)\n",
    "    remover = StopWordsRemover(inputCol='words', outputCol='filtered')\n",
    "    new_df = remover.transform(new_df)\n",
    "    \n",
    "    word2Vec = Word2Vec(vectorSize=VECTORSIZE, minCount=0, inputCol='filtered', outputCol='features')\n",
    "    label_stringIdx = StringIndexer(inputCol = target_name, outputCol = \"label\")\n",
    "    lr = LogisticRegression(maxIter=10)\n",
    "\n",
    "    pipeline = Pipeline(stages= [word2Vec, label_stringIdx, lr])\n",
    "    param_grid = ParamGridBuilder().addGrid(word2Vec.vectorSize, [VECTORSIZE]).build()\n",
    "    \n",
    "    cv = CrossValidator(estimator=pipeline, estimatorParamMaps=param_grid, \n",
    "                        evaluator=BinaryClassificationEvaluator(), seed=42)\n",
    "    model = cv.fit(new_df)\n",
    "    \n",
    "    params = [{p.name: v for p, v in m.items()} for m in model.getEstimatorParamMaps()]\n",
    "    \n",
    "    output = pd.DataFrame.from_dict([{model.getEvaluator().getMetricName(): metric, **ps} \n",
    "        for ps, metric in zip(params, model.avgMetrics)])\n",
    "    \n",
    "    return output"
   ]
  },
  {
   "cell_type": "code",
   "execution_count": null,
   "id": "a54ff110",
   "metadata": {},
   "outputs": [],
   "source": [
    "toxic_w2v = w2v_cv('toxic')\n",
    "print('toxic_w2v done')\n",
    "\n",
    "obscene_w2v = w2v_cv('obscene')\n",
    "print('obscene_w2v done')\n",
    "\n",
    "threat_w2v = w2v_cv('threat')\n",
    "print('threat_w2v done')\n",
    "\n",
    "insult_w2v = w2v_cv('insult')\n",
    "print('insult_w2v done')\n",
    "\n",
    "identity_hate_w2v = w2v_cv('identity_hate')\n",
    "print('identity_hate_w2v done')\n"
   ]
  },
  {
   "cell_type": "code",
   "execution_count": null,
   "id": "85a72a60",
   "metadata": {},
   "outputs": [],
   "source": [
    "toxic_w2v['target'] = \"toxic\"\n",
    "obscene_w2v['target'] = \"obscene\"\n",
    "threat_w2v['target'] = \"threat\"\n",
    "insult_w2v['target'] = \"insult\"\n",
    "identity_hate_w2v['target'] = \"identity_hate\"\n",
    "\n",
    "pd.pivot_table(pd.concat([toxic_w2v, obscene_w2v, threat_w2v, insult_w2v, identity_hate_w2v]),\n",
    "               values='areaUnderROC', index='numFeatures',columns=['target']).reset_index()"
   ]
  },
  {
   "cell_type": "code",
   "execution_count": null,
   "id": "e523ff12",
   "metadata": {},
   "outputs": [],
   "source": []
  }
 ],
 "metadata": {
  "kernelspec": {
   "display_name": "Python 3 (ipykernel)",
   "language": "python",
   "name": "python3"
  },
  "language_info": {
   "codemirror_mode": {
    "name": "ipython",
    "version": 3
   },
   "file_extension": ".py",
   "mimetype": "text/x-python",
   "name": "python",
   "nbconvert_exporter": "python",
   "pygments_lexer": "ipython3",
   "version": "3.9.15"
  }
 },
 "nbformat": 4,
 "nbformat_minor": 5
}
