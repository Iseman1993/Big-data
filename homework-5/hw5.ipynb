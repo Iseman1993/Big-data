{
 "cells": [
  {
   "cell_type": "code",
   "execution_count": null,
   "id": "f33279bd",
   "metadata": {},
   "outputs": [],
   "source": [
    "# conda install openjdk\n",
    "# conda install pyspark\n",
    "# conda install -c conda-forge findspark"
   ]
  },
  {
   "cell_type": "code",
   "execution_count": 1,
   "id": "ec0912c5",
   "metadata": {},
   "outputs": [
    {
     "name": "stdout",
     "output_type": "stream",
     "text": [
      "root\n",
      " |-- id: string (nullable = true)\n",
      " |-- comment_text: string (nullable = true)\n",
      " |-- toxic: string (nullable = true)\n",
      " |-- severe_toxic: string (nullable = true)\n",
      " |-- obscene: string (nullable = true)\n",
      " |-- threat: string (nullable = true)\n",
      " |-- insult: string (nullable = true)\n",
      " |-- identity_hate: string (nullable = true)\n",
      "\n"
     ]
    }
   ],
   "source": [
    "import pandas as pd\n",
    "from pyspark.sql import SparkSession\n",
    "from pyspark.ml import Pipeline\n",
    "from pyspark.ml.classification import LogisticRegression\n",
    "from pyspark.ml.feature import StandardScaler, Word2Vec, StopWordsRemover, VectorAssembler, StringIndexer, HashingTF, IDF, Tokenizer\n",
    "import pyspark.sql.functions as f\n",
    "from pyspark.ml.evaluation import BinaryClassificationEvaluator\n",
    "from pyspark.ml.tuning import CrossValidator, ParamGridBuilder\n",
    "\n",
    "\n",
    "\n",
    "spark = SparkSession \\\n",
    "    .builder \\\n",
    "    .appName(\"HTFIDF\") \\\n",
    "    .master(\"local[*]\") \\\n",
    "    .config(\"spark.executor.memory\", \"70g\") \\\n",
    "    .config(\"spark.driver.memory\", \"50g\") \\\n",
    "    .config(\"spark.memory.offHeap.enabled\",True) \\\n",
    "    .config(\"spark.memory.offHeap.size\",\"16g\") \\\n",
    "    .getOrCreate()\n",
    "\n",
    "sc = spark.sparkContext\n",
    "\n",
    "df = spark.read.option(\"header\",True).option(\"quote\", \"\\\"\").option(\"escape\", \"\\\"\").option(\"multiline\", True).csv(\"data/train.csv\")\n",
    "\n",
    "df.printSchema()\n",
    "\n",
    "\n",
    "\n",
    "#\"data/train.csv\""
   ]
  },
  {
   "cell_type": "code",
   "execution_count": 2,
   "id": "b577d041",
   "metadata": {},
   "outputs": [],
   "source": [
    "#Приведем к нижнему регистру, а затем токенизуем и удалим стоп слова\n",
    "\n",
    "new_df = df.withColumn('comment_text', f.lower(f.col('comment_text')))\n",
    "\n",
    "tokenizer = Tokenizer(inputCol='comment_text', outputCol='words')\n",
    "new_df = tokenizer.transform(new_df)\n",
    "remover = StopWordsRemover(inputCol='words', outputCol='filtered')\n",
    "new_df = remover.transform(new_df)\n",
    "\n",
    "\n",
    "#пайплайн\n",
    "NUM_FEATURES = 10\n",
    "\n",
    "hashing = HashingTF(inputCol='filtered', outputCol='raw_features', numFeatures=NUM_FEATURES)\n",
    "idf = IDF(inputCol='raw_features', outputCol='features')\n",
    "label_stringIdx = StringIndexer(inputCol = \"toxic\", outputCol = \"label\")\n",
    "lr = LogisticRegression(maxIter=10)\n",
    "\n",
    "pipeline = Pipeline(stages= [hashing, idf, label_stringIdx, lr])\n",
    "model = pipeline.fit(new_df)\n",
    "\n",
    "rescale_df = model.transform(new_df)\n",
    "rescale_df.select('label', 'prediction').show(truncate=False)"
   ]
  },
  {
   "cell_type": "code",
   "execution_count": null,
   "id": "82779e66",
   "metadata": {},
   "outputs": [],
   "source": [
    "param_grid = ParamGridBuilder().addGrid(hashing.numFeatures, \n",
    "                                        [10, 20, 50, 100, 200, 500, 1000]).build()\n",
    "\n",
    "cv = CrossValidator(estimator=pipeline, estimatorParamMaps=param_grid, \n",
    "                    evaluator=BinaryClassificationEvaluator(), seed=42)\n",
    "\n",
    "model = cv.fit(new_df)\n",
    "\n",
    "params = [{p.name: v for p, v in m.items()} for m in model.getEstimatorParamMaps()]\n",
    "\n",
    "pd.DataFrame.from_dict([\n",
    "    {cvModel.getEvaluator().getMetricName(): metric, **ps} \n",
    "    for ps, metric in zip(params, cvModel.avgMetrics)])"
   ]
  },
  {
   "cell_type": "markdown",
   "id": "3b2e1b9d",
   "metadata": {},
   "source": [
    "## TF_IDF"
   ]
  },
  {
   "cell_type": "code",
   "execution_count": null,
   "id": "f25612e0",
   "metadata": {},
   "outputs": [],
   "source": [
    "def tf_idf_cv(target_name, df = df, num_feature_list = [10, 20, 50, 100, 200, 500, 1000]):\n",
    "    \n",
    "    new_df = df.withColumn('comment_text', f.lower(f.col('comment_text')))\n",
    "    tokenizer = Tokenizer(inputCol='comment_text', outputCol='words')\n",
    "    new_df = tokenizer.transform(new_df)\n",
    "    remover = StopWordsRemover(inputCol='words', outputCol='filtered')\n",
    "    new_df = remover.transform(new_df)\n",
    "    \n",
    "    hashing = HashingTF(inputCol='filtered', outputCol='raw_features', numFeatures=10)\n",
    "    idf = IDF(inputCol='raw_features', outputCol='features')\n",
    "    label_stringIdx = StringIndexer(inputCol = target_name, outputCol = \"label\")\n",
    "    lr = LogisticRegression(maxIter=10)\n",
    "\n",
    "    pipeline = Pipeline(stages= [hashing, idf, label_stringIdx, lr])\n",
    "    param_grid = ParamGridBuilder().addGrid(hashing.numFeatures, \n",
    "                                            num_feature_list).build()\n",
    "    \n",
    "    cv = CrossValidator(estimator=pipeline, estimatorParamMaps=param_grid, \n",
    "                        evaluator=BinaryClassificationEvaluator(), seed=42)\n",
    "    cvModel = cv.fit(new_df)\n",
    "    params = [{p.name: v for p, v in m.items()} for m in cvModel.getEstimatorParamMaps()]\n",
    "    \n",
    "    output = pd.DataFrame.from_dict([{cvModel.getEvaluator().getMetricName(): metric, **ps} \n",
    "        for ps, metric in zip(params, cvModel.avgMetrics)])\n",
    "    \n",
    "    return output\n"
   ]
  },
  {
   "cell_type": "code",
   "execution_count": null,
   "id": "64f3279a",
   "metadata": {},
   "outputs": [],
   "source": [
    "toxic = tf_idf_cv('toxic')\n",
    "print('toxic done')\n",
    "\n",
    "obscene = tf_idf_cv('obscene')\n",
    "print('obscene done')\n",
    "\n",
    "threat = tf_idf_cv('threat')\n",
    "print('threat done')\n",
    "\n",
    "insult = tf_idf_cv('insult')\n",
    "print('insult done')\n",
    "\n",
    "identity = tf_idf_cv('identity_hate')\n",
    "print('identity_hate done')\n"
   ]
  },
  {
   "cell_type": "code",
   "execution_count": null,
   "id": "773b5f5e",
   "metadata": {},
   "outputs": [],
   "source": [
    "toxic_results['target'] = \"toxic\"\n",
    "obscene_results['target'] = \"obscene\"\n",
    "threat_results['target'] = \"threat\"\n",
    "insult_results['target'] = \"insult\"\n",
    "identity_hate_results['target'] = \"identity_hate\"\n",
    "\n",
    "\n",
    "pd.pivot_table(pd.concat([toxic_results, obscene_results, threat_results, insult_results, identity_hate_results]),\n",
    "               values='areaUnderROC', index='numFeatures',columns=['target']).reset_index()"
   ]
  },
  {
   "cell_type": "code",
   "execution_count": null,
   "id": "192a99b0",
   "metadata": {},
   "outputs": [],
   "source": []
  },
  {
   "cell_type": "markdown",
   "id": "ed8a922e",
   "metadata": {},
   "source": [
    "## Word2Vec\n"
   ]
  },
  {
   "cell_type": "code",
   "execution_count": null,
   "id": "27082b87",
   "metadata": {},
   "outputs": [],
   "source": [
    "def w2v_cv(target_name, df = df, VECTORSIZE = 3):\n",
    "    \n",
    "    new_df = df.withColumn('comment_text', f.lower(f.col('comment_text')))\n",
    "    tokenizer = Tokenizer(inputCol='comment_text', outputCol='words')\n",
    "    new_df = tokenizer.transform(new_df)\n",
    "    remover = StopWordsRemover(inputCol='words', outputCol='filtered')\n",
    "    new_df = remover.transform(new_df)\n",
    "    \n",
    "    word2Vec = Word2Vec(vectorSize=VECTORSIZE, minCount=0, inputCol='filtered', outputCol='features')\n",
    "    label_stringIdx = StringIndexer(inputCol = target_name, outputCol = \"label\")\n",
    "    lr = LogisticRegression(maxIter=10)\n",
    "\n",
    "    pipeline = Pipeline(stages= [word2Vec, label_stringIdx, lr])\n",
    "    param_grid = ParamGridBuilder().addGrid(word2Vec.vectorSize, [VECTORSIZE]).build()\n",
    "    \n",
    "    cv = CrossValidator(estimator=pipeline, estimatorParamMaps=param_grid, \n",
    "                        evaluator=BinaryClassificationEvaluator(), seed=42)\n",
    "    cvModel = cv.fit(new_df)\n",
    "    \n",
    "    params = [{p.name: v for p, v in m.items()} for m in cvModel.getEstimatorParamMaps()]\n",
    "    \n",
    "    output = pd.DataFrame.from_dict([{cvModel.getEvaluator().getMetricName(): metric, **ps} \n",
    "        for ps, metric in zip(params, cvModel.avgMetrics)])\n",
    "    \n",
    "    return output"
   ]
  },
  {
   "cell_type": "code",
   "execution_count": null,
   "id": "27b32ca3",
   "metadata": {},
   "outputs": [],
   "source": [
    "toxic_w2v = w2v_cv('toxic')\n",
    "print('toxic_w2v done')\n",
    "\n",
    "obscene_w2v = w2v_cv('obscene')\n",
    "print('obscene_w2v done')\n",
    "\n",
    "threat_w2v = w2v_cv('threat')\n",
    "print('threat_w2v done')\n",
    "\n",
    "insult_w2v = w2v_cv('insult')\n",
    "print('insult_w2v done')\n",
    "\n",
    "identity_hate_w2v = w2v_cv('identity_hate')\n",
    "print('identity_hate_w2v done')\n"
   ]
  },
  {
   "cell_type": "code",
   "execution_count": null,
   "id": "d4292990",
   "metadata": {},
   "outputs": [],
   "source": [
    "toxic_w2v['target'] = \"toxic\"\n",
    "obscene_w2v['target'] = \"obscene\"\n",
    "threat_w2v['target'] = \"threat\"\n",
    "insult_w2v['target'] = \"insult\"\n",
    "identity_hate_w2v['target'] = \"identity_hate\"\n",
    "\n",
    "pd.pivot_table(pd.concat([toxic_w2v, obscene_w2v, threat_w2v, insult_w2v, identity_hate_w2v]),\n",
    "               values='areaUnderROC', index='numFeatures',columns=['target']).reset_index()"
   ]
  },
  {
   "cell_type": "code",
   "execution_count": null,
   "id": "03bea5f7",
   "metadata": {},
   "outputs": [],
   "source": []
  }
 ],
 "metadata": {
  "kernelspec": {
   "display_name": "Python 3 (ipykernel)",
   "language": "python",
   "name": "python3"
  },
  "language_info": {
   "codemirror_mode": {
    "name": "ipython",
    "version": 3
   },
   "file_extension": ".py",
   "mimetype": "text/x-python",
   "name": "python",
   "nbconvert_exporter": "python",
   "pygments_lexer": "ipython3",
   "version": "3.9.13"
  }
 },
 "nbformat": 4,
 "nbformat_minor": 5
}
